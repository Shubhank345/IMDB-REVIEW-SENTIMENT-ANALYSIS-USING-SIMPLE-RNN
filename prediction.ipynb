{
 "cells": [
  {
   "cell_type": "code",
   "execution_count": 11,
   "id": "b19fa52f",
   "metadata": {},
   "outputs": [],
   "source": [
    "import tensorflow as tf\n",
    "import numpy as np\n",
    "from tensorflow.keras.datasets import imdb\n",
    "from tensorflow.keras.preprocessing import sequence\n",
    "from tensorflow.keras.models import load_model"
   ]
  },
  {
   "cell_type": "code",
   "execution_count": 12,
   "id": "0432281d",
   "metadata": {},
   "outputs": [],
   "source": [
    "word_index=imdb.get_word_index()\n",
    "reverse_word_index= {value:key for key,value in word_index.items()}"
   ]
  },
  {
   "cell_type": "code",
   "execution_count": 13,
   "id": "880cbba6",
   "metadata": {},
   "outputs": [
    {
     "name": "stderr",
     "output_type": "stream",
     "text": [
      "WARNING:absl:Compiled the loaded model, but the compiled metrics have yet to be built. `model.compile_metrics` will be empty until you train or evaluate the model.\n"
     ]
    }
   ],
   "source": [
    "model = load_model('simple_rnn_imdb.h5')"
   ]
  },
  {
   "cell_type": "code",
   "execution_count": 14,
   "id": "d76a7431",
   "metadata": {},
   "outputs": [
    {
     "data": {
      "text/html": [
       "<pre style=\"white-space:pre;overflow-x:auto;line-height:normal;font-family:Menlo,'DejaVu Sans Mono',consolas,'Courier New',monospace\"><span style=\"font-weight: bold\">Model: \"sequential_2\"</span>\n",
       "</pre>\n"
      ],
      "text/plain": [
       "\u001b[1mModel: \"sequential_2\"\u001b[0m\n"
      ]
     },
     "metadata": {},
     "output_type": "display_data"
    },
    {
     "data": {
      "text/html": [
       "<pre style=\"white-space:pre;overflow-x:auto;line-height:normal;font-family:Menlo,'DejaVu Sans Mono',consolas,'Courier New',monospace\">┏━━━━━━━━━━━━━━━━━━━━━━━━━━━━━━━━━┳━━━━━━━━━━━━━━━━━━━━━━━━┳━━━━━━━━━━━━━━━┓\n",
       "┃<span style=\"font-weight: bold\"> Layer (type)                    </span>┃<span style=\"font-weight: bold\"> Output Shape           </span>┃<span style=\"font-weight: bold\">       Param # </span>┃\n",
       "┡━━━━━━━━━━━━━━━━━━━━━━━━━━━━━━━━━╇━━━━━━━━━━━━━━━━━━━━━━━━╇━━━━━━━━━━━━━━━┩\n",
       "│ embedding_2 (<span style=\"color: #0087ff; text-decoration-color: #0087ff\">Embedding</span>)         │ (<span style=\"color: #00d7ff; text-decoration-color: #00d7ff\">None</span>, <span style=\"color: #00af00; text-decoration-color: #00af00\">500</span>, <span style=\"color: #00af00; text-decoration-color: #00af00\">128</span>)       │     <span style=\"color: #00af00; text-decoration-color: #00af00\">1,280,000</span> │\n",
       "├─────────────────────────────────┼────────────────────────┼───────────────┤\n",
       "│ simple_rnn_2 (<span style=\"color: #0087ff; text-decoration-color: #0087ff\">SimpleRNN</span>)        │ (<span style=\"color: #00d7ff; text-decoration-color: #00d7ff\">None</span>, <span style=\"color: #00af00; text-decoration-color: #00af00\">128</span>)            │        <span style=\"color: #00af00; text-decoration-color: #00af00\">32,896</span> │\n",
       "├─────────────────────────────────┼────────────────────────┼───────────────┤\n",
       "│ dense_2 (<span style=\"color: #0087ff; text-decoration-color: #0087ff\">Dense</span>)                 │ (<span style=\"color: #00d7ff; text-decoration-color: #00d7ff\">None</span>, <span style=\"color: #00af00; text-decoration-color: #00af00\">1</span>)              │           <span style=\"color: #00af00; text-decoration-color: #00af00\">129</span> │\n",
       "└─────────────────────────────────┴────────────────────────┴───────────────┘\n",
       "</pre>\n"
      ],
      "text/plain": [
       "┏━━━━━━━━━━━━━━━━━━━━━━━━━━━━━━━━━┳━━━━━━━━━━━━━━━━━━━━━━━━┳━━━━━━━━━━━━━━━┓\n",
       "┃\u001b[1m \u001b[0m\u001b[1mLayer (type)                   \u001b[0m\u001b[1m \u001b[0m┃\u001b[1m \u001b[0m\u001b[1mOutput Shape          \u001b[0m\u001b[1m \u001b[0m┃\u001b[1m \u001b[0m\u001b[1m      Param #\u001b[0m\u001b[1m \u001b[0m┃\n",
       "┡━━━━━━━━━━━━━━━━━━━━━━━━━━━━━━━━━╇━━━━━━━━━━━━━━━━━━━━━━━━╇━━━━━━━━━━━━━━━┩\n",
       "│ embedding_2 (\u001b[38;5;33mEmbedding\u001b[0m)         │ (\u001b[38;5;45mNone\u001b[0m, \u001b[38;5;34m500\u001b[0m, \u001b[38;5;34m128\u001b[0m)       │     \u001b[38;5;34m1,280,000\u001b[0m │\n",
       "├─────────────────────────────────┼────────────────────────┼───────────────┤\n",
       "│ simple_rnn_2 (\u001b[38;5;33mSimpleRNN\u001b[0m)        │ (\u001b[38;5;45mNone\u001b[0m, \u001b[38;5;34m128\u001b[0m)            │        \u001b[38;5;34m32,896\u001b[0m │\n",
       "├─────────────────────────────────┼────────────────────────┼───────────────┤\n",
       "│ dense_2 (\u001b[38;5;33mDense\u001b[0m)                 │ (\u001b[38;5;45mNone\u001b[0m, \u001b[38;5;34m1\u001b[0m)              │           \u001b[38;5;34m129\u001b[0m │\n",
       "└─────────────────────────────────┴────────────────────────┴───────────────┘\n"
      ]
     },
     "metadata": {},
     "output_type": "display_data"
    },
    {
     "data": {
      "text/html": [
       "<pre style=\"white-space:pre;overflow-x:auto;line-height:normal;font-family:Menlo,'DejaVu Sans Mono',consolas,'Courier New',monospace\"><span style=\"font-weight: bold\"> Total params: </span><span style=\"color: #00af00; text-decoration-color: #00af00\">1,313,027</span> (5.01 MB)\n",
       "</pre>\n"
      ],
      "text/plain": [
       "\u001b[1m Total params: \u001b[0m\u001b[38;5;34m1,313,027\u001b[0m (5.01 MB)\n"
      ]
     },
     "metadata": {},
     "output_type": "display_data"
    },
    {
     "data": {
      "text/html": [
       "<pre style=\"white-space:pre;overflow-x:auto;line-height:normal;font-family:Menlo,'DejaVu Sans Mono',consolas,'Courier New',monospace\"><span style=\"font-weight: bold\"> Trainable params: </span><span style=\"color: #00af00; text-decoration-color: #00af00\">1,313,025</span> (5.01 MB)\n",
       "</pre>\n"
      ],
      "text/plain": [
       "\u001b[1m Trainable params: \u001b[0m\u001b[38;5;34m1,313,025\u001b[0m (5.01 MB)\n"
      ]
     },
     "metadata": {},
     "output_type": "display_data"
    },
    {
     "data": {
      "text/html": [
       "<pre style=\"white-space:pre;overflow-x:auto;line-height:normal;font-family:Menlo,'DejaVu Sans Mono',consolas,'Courier New',monospace\"><span style=\"font-weight: bold\"> Non-trainable params: </span><span style=\"color: #00af00; text-decoration-color: #00af00\">0</span> (0.00 B)\n",
       "</pre>\n"
      ],
      "text/plain": [
       "\u001b[1m Non-trainable params: \u001b[0m\u001b[38;5;34m0\u001b[0m (0.00 B)\n"
      ]
     },
     "metadata": {},
     "output_type": "display_data"
    },
    {
     "data": {
      "text/html": [
       "<pre style=\"white-space:pre;overflow-x:auto;line-height:normal;font-family:Menlo,'DejaVu Sans Mono',consolas,'Courier New',monospace\"><span style=\"font-weight: bold\"> Optimizer params: </span><span style=\"color: #00af00; text-decoration-color: #00af00\">2</span> (12.00 B)\n",
       "</pre>\n"
      ],
      "text/plain": [
       "\u001b[1m Optimizer params: \u001b[0m\u001b[38;5;34m2\u001b[0m (12.00 B)\n"
      ]
     },
     "metadata": {},
     "output_type": "display_data"
    }
   ],
   "source": [
    "model.summary()"
   ]
  },
  {
   "cell_type": "code",
   "execution_count": 15,
   "id": "e90d2a98",
   "metadata": {},
   "outputs": [
    {
     "data": {
      "text/plain": [
       "[array([[-2.38413796e-01,  2.57923789e-02,  1.29066706e-01, ...,\n",
       "         -1.41152330e-02, -1.70857713e-01,  1.09980673e-01],\n",
       "        [-1.24162741e-01,  1.36058927e-02,  2.70331763e-02, ...,\n",
       "          1.31670848e-01, -5.22852642e-03,  1.19729037e-03],\n",
       "        [ 1.30448146e-02, -5.76282665e-02,  7.46974573e-02, ...,\n",
       "          7.04250560e-05, -8.40529129e-02, -9.89734381e-03],\n",
       "        ...,\n",
       "        [-5.82533814e-02,  7.85143971e-02, -1.68604702e-02, ...,\n",
       "         -3.42877470e-02, -3.28378789e-02, -1.01808235e-01],\n",
       "        [ 4.52199113e-03, -6.09596483e-02, -3.38197872e-02, ...,\n",
       "          9.60096568e-02,  4.24687117e-02,  2.73212232e-02],\n",
       "        [-7.58244842e-02, -8.33074450e-02,  5.24790138e-02, ...,\n",
       "         -2.12749895e-02, -4.43006530e-02, -4.86962497e-02]], dtype=float32),\n",
       " array([[-0.11749955,  0.0468405 , -0.0986596 , ..., -0.2303736 ,\n",
       "          0.25275904,  0.03377441],\n",
       "        [-0.14002201, -0.10443033, -0.1338606 , ..., -0.09404555,\n",
       "          0.07211772, -0.08804382],\n",
       "        [ 0.14208537, -0.02486242,  0.05444852, ..., -0.10716523,\n",
       "         -0.10512789, -0.01783981],\n",
       "        ...,\n",
       "        [ 0.12252971, -0.12181598, -0.02579732, ...,  0.0355128 ,\n",
       "          0.2314421 ,  0.13247527],\n",
       "        [ 0.00725205,  0.03991949, -0.071458  , ...,  0.01699015,\n",
       "          0.10135231,  0.29449686],\n",
       "        [-0.03139237,  0.03300199, -0.17133512, ...,  0.01398623,\n",
       "          0.15830599,  0.22225422]], dtype=float32),\n",
       " array([[ 0.12279907, -0.07543264, -0.1704997 , ...,  0.15802096,\n",
       "         -0.07474891,  0.02643463],\n",
       "        [ 0.13922325, -0.07197386, -0.15738016, ..., -0.12751684,\n",
       "         -0.20628393, -0.144063  ],\n",
       "        [-0.05061034,  0.08219964, -0.0333597 , ..., -0.1345596 ,\n",
       "         -0.0276931 ,  0.0716858 ],\n",
       "        ...,\n",
       "        [ 0.00530215,  0.03600709, -0.04130948, ...,  0.25475496,\n",
       "         -0.01729371, -0.05623449],\n",
       "        [-0.09315613, -0.04822269, -0.07273178, ...,  0.02852179,\n",
       "          0.00669308,  0.14013778],\n",
       "        [-0.04225185,  0.06871589, -0.12614657, ..., -0.0602724 ,\n",
       "         -0.10319392,  0.00961643]], dtype=float32),\n",
       " array([-0.02234193,  0.09750426, -0.04274846,  0.04129549, -0.07477169,\n",
       "         0.102359  ,  0.13591355,  0.09096247, -0.01312195,  0.00252095,\n",
       "         0.03722858,  0.03848063,  0.00726343, -0.06041552,  0.04197682,\n",
       "        -0.05273642,  0.00676115,  0.02376148,  0.10416443, -0.06008248,\n",
       "        -0.00664061, -0.04109709,  0.05098214,  0.06352894,  0.03814267,\n",
       "         0.07009163,  0.02416823,  0.02019811, -0.04094684, -0.0365826 ,\n",
       "        -0.01353899, -0.00690402, -0.04571181, -0.04934289,  0.07182787,\n",
       "         0.0361204 ,  0.00356199, -0.01794056,  0.01330157,  0.04946175,\n",
       "         0.00737656, -0.01171744,  0.02984455, -0.04038798, -0.06698772,\n",
       "         0.03213128,  0.06278167,  0.0097458 ,  0.04188947,  0.00025199,\n",
       "        -0.05442305, -0.00131954, -0.09058996, -0.01661851,  0.01701203,\n",
       "        -0.01898932,  0.0104917 ,  0.00859876,  0.02539761, -0.10054527,\n",
       "        -0.04654502, -0.01216377,  0.007368  ,  0.0889068 , -0.01090808,\n",
       "         0.0500167 ,  0.03746312, -0.01440387, -0.04346081,  0.02613872,\n",
       "         0.02964754,  0.013021  , -0.0222426 ,  0.01239825, -0.01016242,\n",
       "        -0.00341882, -0.02188002, -0.02080207, -0.05111734, -0.00230338,\n",
       "         0.03405506, -0.03590122,  0.05213392,  0.00089638, -0.03945575,\n",
       "        -0.06354596,  0.01939801,  0.00273752,  0.01476248, -0.07888646,\n",
       "         0.07879905,  0.0115704 , -0.00406534,  0.00266512,  0.05473411,\n",
       "        -0.10767198, -0.06323152,  0.03978967, -0.03354717, -0.01604533,\n",
       "        -0.00652279, -0.04753432,  0.05356601, -0.00724108,  0.03024853,\n",
       "         0.07311298, -0.04822801, -0.04250174,  0.02899381,  0.00406096,\n",
       "        -0.01481128,  0.09232204,  0.03109553, -0.02472854,  0.04509801,\n",
       "        -0.08235172, -0.00976844, -0.02352715, -0.02854338, -0.04258247,\n",
       "        -0.08028269, -0.04856271,  0.04920264, -0.03739772, -0.00078524,\n",
       "         0.02485392,  0.01725598, -0.06851525], dtype=float32),\n",
       " array([[-0.17275093],\n",
       "        [ 0.21286626],\n",
       "        [ 0.01571828],\n",
       "        [-0.16225013],\n",
       "        [-0.05468787],\n",
       "        [-0.04956828],\n",
       "        [ 0.01580072],\n",
       "        [ 0.26130706],\n",
       "        [ 0.09468377],\n",
       "        [ 0.16810331],\n",
       "        [ 0.02305002],\n",
       "        [ 0.06389152],\n",
       "        [-0.1203494 ],\n",
       "        [-0.2288353 ],\n",
       "        [-0.08015925],\n",
       "        [ 0.02539241],\n",
       "        [-0.06520671],\n",
       "        [ 0.19854802],\n",
       "        [-0.04769246],\n",
       "        [ 0.01625011],\n",
       "        [-0.03034304],\n",
       "        [-0.08831098],\n",
       "        [-0.11814906],\n",
       "        [-0.09298515],\n",
       "        [ 0.18359353],\n",
       "        [-0.08973071],\n",
       "        [ 0.00590781],\n",
       "        [-0.17516471],\n",
       "        [-0.2371596 ],\n",
       "        [-0.00445871],\n",
       "        [-0.1477645 ],\n",
       "        [ 0.17100109],\n",
       "        [ 0.04464967],\n",
       "        [-0.19710514],\n",
       "        [ 0.14437443],\n",
       "        [-0.33605573],\n",
       "        [-0.26524028],\n",
       "        [ 0.11381052],\n",
       "        [-0.10165942],\n",
       "        [ 0.0422186 ],\n",
       "        [ 0.13981003],\n",
       "        [-0.1589507 ],\n",
       "        [ 0.22473171],\n",
       "        [ 0.11663044],\n",
       "        [-0.13338433],\n",
       "        [-0.15361412],\n",
       "        [ 0.24284999],\n",
       "        [-0.01450633],\n",
       "        [-0.11445292],\n",
       "        [ 0.11537061],\n",
       "        [ 0.2033662 ],\n",
       "        [ 0.05779111],\n",
       "        [-0.12657635],\n",
       "        [ 0.14252545],\n",
       "        [-0.09739366],\n",
       "        [-0.03342623],\n",
       "        [-0.12921844],\n",
       "        [-0.02855379],\n",
       "        [-0.13977566],\n",
       "        [ 0.12021037],\n",
       "        [ 0.10273399],\n",
       "        [ 0.08766946],\n",
       "        [ 0.08048722],\n",
       "        [ 0.05649871],\n",
       "        [ 0.12763089],\n",
       "        [-0.10510289],\n",
       "        [-0.04122591],\n",
       "        [ 0.04033618],\n",
       "        [-0.11067875],\n",
       "        [-0.02185909],\n",
       "        [-0.0680204 ],\n",
       "        [-0.20126945],\n",
       "        [-0.16595735],\n",
       "        [ 0.06462318],\n",
       "        [-0.0404679 ],\n",
       "        [ 0.13622485],\n",
       "        [ 0.17575592],\n",
       "        [ 0.06086159],\n",
       "        [ 0.05251728],\n",
       "        [-0.1442977 ],\n",
       "        [-0.15346815],\n",
       "        [ 0.22102289],\n",
       "        [ 0.10765297],\n",
       "        [-0.1607116 ],\n",
       "        [ 0.2340356 ],\n",
       "        [-0.07596629],\n",
       "        [-0.05094547],\n",
       "        [-0.02207982],\n",
       "        [-0.10040895],\n",
       "        [ 0.18133792],\n",
       "        [-0.18890786],\n",
       "        [ 0.01490664],\n",
       "        [-0.09649663],\n",
       "        [-0.1503137 ],\n",
       "        [ 0.0690135 ],\n",
       "        [-0.22420867],\n",
       "        [-0.04361847],\n",
       "        [-0.0733602 ],\n",
       "        [-0.01686073],\n",
       "        [ 0.19455655],\n",
       "        [ 0.06994009],\n",
       "        [-0.15870906],\n",
       "        [ 0.15258949],\n",
       "        [ 0.11936365],\n",
       "        [ 0.05908757],\n",
       "        [-0.02777996],\n",
       "        [-0.08360537],\n",
       "        [-0.23759219],\n",
       "        [-0.01326088],\n",
       "        [ 0.1609173 ],\n",
       "        [-0.01891061],\n",
       "        [ 0.21027875],\n",
       "        [ 0.16827056],\n",
       "        [-0.08614505],\n",
       "        [ 0.16270165],\n",
       "        [-0.05524332],\n",
       "        [ 0.13186692],\n",
       "        [-0.13877898],\n",
       "        [ 0.14709172],\n",
       "        [-0.00762632],\n",
       "        [ 0.16318464],\n",
       "        [ 0.23186412],\n",
       "        [ 0.12449912],\n",
       "        [ 0.14869975],\n",
       "        [ 0.23072627],\n",
       "        [-0.05625602],\n",
       "        [ 0.05484392],\n",
       "        [ 0.11146722]], dtype=float32),\n",
       " array([0.10707016], dtype=float32)]"
      ]
     },
     "execution_count": 15,
     "metadata": {},
     "output_type": "execute_result"
    }
   ],
   "source": [
    "model.get_weights()"
   ]
  },
  {
   "cell_type": "code",
   "execution_count": 16,
   "id": "498283f4",
   "metadata": {},
   "outputs": [],
   "source": [
    "#Function to decode review\n",
    "def decode_review(encoded_review):\n",
    "    return ' '.join([reverse_word_index.get(i-3,'?')for i in encoded_review])\n",
    "    \n",
    "\n",
    "\n",
    "#Preproccesing user text\n",
    "max_features=10000\n",
    "def preprocessing_text(text):\n",
    "    words=text.lower().split()\n",
    "    encoded_review=[word_index.get(word,2) + 3 for word in words]\n",
    "    encoded_review = [i if i < max_features else 2 for i in encoded_review]\n",
    "    padded_review=sequence.pad_sequences([encoded_review],maxlen=500)\n",
    "    return padded_review\n"
   ]
  },
  {
   "cell_type": "code",
   "execution_count": 17,
   "id": "f4e6bac7",
   "metadata": {},
   "outputs": [],
   "source": [
    "#Predict Function\n",
    "def predict_sentiment(review):\n",
    "    predict_input=preprocessing_text(review)\n",
    "    prediction=model.predict(predict_input)\n",
    "    sentiment='Postive' if prediction[0][0]>0.5 else 'Negative'\n",
    "    return sentiment,prediction[0][0]"
   ]
  },
  {
   "cell_type": "code",
   "execution_count": 18,
   "id": "1676b330",
   "metadata": {},
   "outputs": [
    {
     "name": "stdout",
     "output_type": "stream",
     "text": [
      "\u001b[1m1/1\u001b[0m \u001b[32m━━━━━━━━━━━━━━━━━━━━\u001b[0m\u001b[37m\u001b[0m \u001b[1m0s\u001b[0m 251ms/step\n",
      "\u001b[1m1/1\u001b[0m \u001b[32m━━━━━━━━━━━━━━━━━━━━\u001b[0m\u001b[37m\u001b[0m \u001b[1m0s\u001b[0m 41ms/step\n",
      "First Review: The movie is great.Definately a good watch\n",
      "Sentiment for first review: Postive\n",
      "Score for first review: 0.7487550973892212\n",
      "Second Review: This movie is not worth watching.Better save your time\n",
      "Sentiment for second review: Negative\n",
      "Score for second review: 0.45873066782951355\n"
     ]
    }
   ],
   "source": [
    "#EXAMPLE REVIEW\n",
    "example_review1='The movie is great.Definately a good watch'\n",
    "example_review2='This movie is not worth watching.Better save your time'\n",
    "sentiment1,score1=predict_sentiment(example_review1)\n",
    "sentiment2,score2=predict_sentiment(example_review2)\n",
    "print(f'First Review: {example_review1}')\n",
    "print(f'Sentiment for first review: {sentiment1}')\n",
    "print(f'Score for first review: {score1}')\n",
    "print(f'Second Review: {example_review2}')\n",
    "print(f'Sentiment for second review: {sentiment2}')\n",
    "print(f'Score for second review: {score2}')\n",
    "\n"
   ]
  }
 ],
 "metadata": {
  "kernelspec": {
   "display_name": "Python 3",
   "language": "python",
   "name": "python3"
  },
  "language_info": {
   "codemirror_mode": {
    "name": "ipython",
    "version": 3
   },
   "file_extension": ".py",
   "mimetype": "text/x-python",
   "name": "python",
   "nbconvert_exporter": "python",
   "pygments_lexer": "ipython3",
   "version": "3.11.4"
  }
 },
 "nbformat": 4,
 "nbformat_minor": 5
}
